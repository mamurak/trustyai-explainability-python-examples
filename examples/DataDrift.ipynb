{
 "cells": [
  {
   "cell_type": "markdown",
   "metadata": {},
   "source": [
    "## Data Drift"
   ]
  },
  {
   "cell_type": "markdown",
   "metadata": {},
   "source": [
    "Data drift occurs when a machine model's performance declines or is different on unseen data compared to its training data due distribution changes in the data over time. In this notebook, we explore and visualize data drift on a simple XGBoost model, that predicts credit card acceptance based on an applicant's age, credit score, years of education, and years in employment. This demo is a Jupyter notebook counterpart for a prexisting demo, [Data Drift](https://github.com/trustyai-explainability/odh-trustyai-demos.git). Please refer to its `README.md` for more details, as well as how to perform the following steps in ODH."
   ]
  },
  {
   "cell_type": "markdown",
   "metadata": {},
   "source": [
    "### Prerequisites\n",
    "Follow the instructions within the [Installation](https://github.com/trustyai-explainability/odh-trustyai-demos/tree/main/1-Installation) section. Additionally, follow the instructions in the `Deploy Model` sectionin the [Data Drift](https://github.com/trustyai-explainability/odh-trustyai-demos/blob/main/3-DataDrift/README.md) demo. Before proceeding, check that you have the following:\n",
    "- ODH installation\n",
    "- A TrustyAI Operator\n",
    "- A model-namespace project containing an instance of the TrustyAI Service\n",
    "- A model storage container\n",
    "- A Seldon MLServer serving runtime\n",
    "- The delpoyed credit model\n"
   ]
  },
  {
   "cell_type": "markdown",
   "metadata": {},
   "source": [
    "### Imports"
   ]
  },
  {
   "cell_type": "code",
   "execution_count": 1,
   "metadata": {},
   "outputs": [],
   "source": [
    "import os\n",
    "import subprocess\n",
    "import warnings\n",
    "warnings.filterwarnings(\"ignore\")\n",
    "\n",
    "import matplotlib.pyplot as plt\n",
    "\n",
    "from trustyai.utils.api.api import TrustyAIApi\n",
    "from trustyai.utils.extras.metrics_service import TrustyAIMetricsService"
   ]
  },
  {
   "cell_type": "markdown",
   "metadata": {},
   "source": [
    "### Clone the Data Drift Repository\n",
    "For the purposes of recreating the data drift demo in a Jupyter `notebook, we will be reusing the data in that repository. "
   ]
  },
  {
   "cell_type": "code",
   "execution_count": 2,
   "metadata": {},
   "outputs": [],
   "source": [
    "!git clone https://github.com/trustyai-explainability/odh-trustyai-demos.git\n",
    "!cd odh-trustyai-demos/3-DataDrift"
   ]
  },
  {
   "cell_type": "code",
   "execution_count": 3,
   "metadata": {},
   "outputs": [
    {
     "data": {
      "text/plain": [
       "'/Users/christinaxu/Documents/trustyai-explainability-python/odh-trustyai-demos/3-DataDrift'"
      ]
     },
     "execution_count": 3,
     "metadata": {},
     "output_type": "execute_result"
    }
   ],
   "source": [
    "os.chdir(\"odh-trustyai-demos/3-DataDrift/\")\n",
    "os.getcwd()"
   ]
  },
  {
   "cell_type": "markdown",
   "metadata": {},
   "source": [
    "### Initialize Metrics Service\n",
    "In order to use the metrics service, we first have to initialize it using our OpenShift login token and model namespace."
   ]
  },
  {
   "cell_type": "code",
   "execution_count": 4,
   "metadata": {},
   "outputs": [],
   "source": [
    "TOKEN = os.environ.get(\"TOKEN\", \"None\")\n",
    "trustyService = TrustyAIMetricsService(\n",
    "    token = TOKEN,\n",
    "    namespace=\"model-namespace\",\n",
    "    verify=False\n",
    ")"
   ]
  },
  {
   "cell_type": "markdown",
   "metadata": {},
   "source": [
    "### Upload Model Training Data To TrustyAI"
   ]
  },
  {
   "cell_type": "code",
   "execution_count": 5,
   "metadata": {},
   "outputs": [
    {
     "name": "stdout",
     "output_type": "stream",
     "text": [
      "Data sucessfully uploaded to TrustyAI service\n"
     ]
    }
   ],
   "source": [
    "trustyService.upload_payload_data(\n",
    "    json_file=\"data/training_data.json\"\n",
    ")"
   ]
  },
  {
   "cell_type": "markdown",
   "metadata": {},
   "source": [
    "### Label Data Fields"
   ]
  },
  {
   "cell_type": "code",
   "execution_count": 6,
   "metadata": {},
   "outputs": [
    {
     "name": "stdout",
     "output_type": "stream",
     "text": [
      "credit_inputs-0 -> Age\n",
      "credit_inputs-1 -> Credit Score\n",
      "credit_inputs-2 -> Years of Education\n",
      "credit_inputs-3 -> Years of Employment\n"
     ]
    },
    {
     "data": {
      "text/plain": [
       "'Feature and output name mapping successfully applied.'"
      ]
     },
     "execution_count": 6,
     "metadata": {},
     "output_type": "execute_result"
    }
   ],
   "source": [
    "name_mapping = {\n",
    "    \"modelId\": \"gaussian-credit-model\",\n",
    "    \"inputMapping\":\n",
    "      {\n",
    "        \"credit_inputs-0\": \"Age\",\n",
    "        \"credit_inputs-1\": \"Credit Score\",\n",
    "        \"credit_inputs-2\": \"Years of Education\",\n",
    "        \"credit_inputs-3\": \"Years of Employment\"\n",
    "      },\n",
    "    \"outputMapping\": {\n",
    "      \"predict-0\": \"Acceptance Probability\"\n",
    "    }\n",
    "}\n",
    "\n",
    "trustyService.label_data_fields(payload=name_mapping)"
   ]
  },
  {
   "cell_type": "markdown",
   "metadata": {},
   "source": [
    "### Examining TrustyAI's Model Metadata"
   ]
  },
  {
   "cell_type": "code",
   "execution_count": 7,
   "metadata": {},
   "outputs": [
    {
     "data": {
      "text/plain": [
       "[{'metrics': {'scheduledMetadata': {'metricCounts': {}}},\n",
       "  'data': {'inputSchema': {'items': {'credit_inputs-2': {'type': 'DOUBLE',\n",
       "      'name': 'credit_inputs-2',\n",
       "      'values': None,\n",
       "      'index': 2},\n",
       "     'credit_inputs-3': {'type': 'DOUBLE',\n",
       "      'name': 'credit_inputs-3',\n",
       "      'values': None,\n",
       "      'index': 3},\n",
       "     'credit_inputs-0': {'type': 'DOUBLE',\n",
       "      'name': 'credit_inputs-0',\n",
       "      'values': None,\n",
       "      'index': 0},\n",
       "     'credit_inputs-1': {'type': 'DOUBLE',\n",
       "      'name': 'credit_inputs-1',\n",
       "      'values': None,\n",
       "      'index': 1}},\n",
       "    'remapCount': 2,\n",
       "    'nameMapping': {'credit_inputs-0': 'Age',\n",
       "     'credit_inputs-1': 'Credit Score',\n",
       "     'credit_inputs-2': 'Years of Education',\n",
       "     'credit_inputs-3': 'Years of Employment'},\n",
       "    'nameMappedItems': {'Years of Education': {'type': 'DOUBLE',\n",
       "      'name': 'credit_inputs-2',\n",
       "      'values': None,\n",
       "      'index': 2},\n",
       "     'Age': {'type': 'DOUBLE',\n",
       "      'name': 'credit_inputs-0',\n",
       "      'values': None,\n",
       "      'index': 0},\n",
       "     'Years of Employment': {'type': 'DOUBLE',\n",
       "      'name': 'credit_inputs-3',\n",
       "      'values': None,\n",
       "      'index': 3},\n",
       "     'Credit Score': {'type': 'DOUBLE',\n",
       "      'name': 'credit_inputs-1',\n",
       "      'values': None,\n",
       "      'index': 1}}},\n",
       "   'outputSchema': {'items': {'predict-0': {'type': 'FLOAT',\n",
       "      'name': 'predict-0',\n",
       "      'values': None,\n",
       "      'index': 4}},\n",
       "    'remapCount': 2,\n",
       "    'nameMapping': {'predict-0': 'Acceptance Probability'},\n",
       "    'nameMappedItems': {'Acceptance Probability': {'type': 'FLOAT',\n",
       "      'name': 'predict-0',\n",
       "      'values': None,\n",
       "      'index': 4}}},\n",
       "   'observations': 1000,\n",
       "   'modelId': 'gaussian-credit-model'}}]"
      ]
     },
     "execution_count": 7,
     "metadata": {},
     "output_type": "execute_result"
    }
   ],
   "source": [
    "trustyService.get_model_metadata()"
   ]
  },
  {
   "cell_type": "markdown",
   "metadata": {},
   "source": [
    "### Register Drift Monitoring"
   ]
  },
  {
   "cell_type": "code",
   "execution_count": 8,
   "metadata": {},
   "outputs": [
    {
     "data": {
      "text/plain": [
       "'{\"requestId\":\"709174f5-a3f4-4ae9-8f7e-a56b708836ff\",\"timestamp\":\"2024-03-06T14:23:17.740+00:00\"}'"
      ]
     },
     "execution_count": 8,
     "metadata": {},
     "output_type": "execute_result"
    }
   ],
   "source": [
    "drift_monitoring = {\n",
    "    \"modelId\": \"gaussian-credit-model\",\n",
    "    \"referenceTag\": \"TRAINING\"\n",
    "}\n",
    "trustyService.get_metric_request(\n",
    "    payload=drift_monitoring, \n",
    "    metric=\"drift/meanshift\", reoccuring=True\n",
    ")"
   ]
  },
  {
   "cell_type": "markdown",
   "metadata": {},
   "source": [
    "### Check the Metrics\n",
    "Let's get the meanshift values for the training data we just uploaded to the TrustyAI service for the past 5 minutes."
   ]
  },
  {
   "cell_type": "code",
   "execution_count": 11,
   "metadata": {},
   "outputs": [
    {
     "data": {
      "text/html": [
       "<div>\n",
       "<style scoped>\n",
       "    .dataframe tbody tr th:only-of-type {\n",
       "        vertical-align: middle;\n",
       "    }\n",
       "\n",
       "    .dataframe tbody tr th {\n",
       "        vertical-align: top;\n",
       "    }\n",
       "\n",
       "    .dataframe thead th {\n",
       "        text-align: right;\n",
       "    }\n",
       "</style>\n",
       "<table border=\"1\" class=\"dataframe\">\n",
       "  <thead>\n",
       "    <tr style=\"text-align: right;\">\n",
       "      <th></th>\n",
       "      <th>timestamp</th>\n",
       "      <th>Age</th>\n",
       "      <th>Credit Score</th>\n",
       "      <th>Years of Education</th>\n",
       "      <th>Years of Employment</th>\n",
       "    </tr>\n",
       "  </thead>\n",
       "  <tbody>\n",
       "    <tr>\n",
       "      <th>0</th>\n",
       "      <td>2024-03-06 09:23:18</td>\n",
       "      <td>1.0</td>\n",
       "      <td>1.0</td>\n",
       "      <td>1.0</td>\n",
       "      <td>1.0</td>\n",
       "    </tr>\n",
       "    <tr>\n",
       "      <th>1</th>\n",
       "      <td>2024-03-06 09:23:22</td>\n",
       "      <td>1.0</td>\n",
       "      <td>1.0</td>\n",
       "      <td>1.0</td>\n",
       "      <td>1.0</td>\n",
       "    </tr>\n",
       "    <tr>\n",
       "      <th>2</th>\n",
       "      <td>2024-03-06 09:23:26</td>\n",
       "      <td>1.0</td>\n",
       "      <td>1.0</td>\n",
       "      <td>1.0</td>\n",
       "      <td>1.0</td>\n",
       "    </tr>\n",
       "    <tr>\n",
       "      <th>3</th>\n",
       "      <td>2024-03-06 09:23:30</td>\n",
       "      <td>1.0</td>\n",
       "      <td>1.0</td>\n",
       "      <td>1.0</td>\n",
       "      <td>1.0</td>\n",
       "    </tr>\n",
       "    <tr>\n",
       "      <th>4</th>\n",
       "      <td>2024-03-06 09:23:34</td>\n",
       "      <td>1.0</td>\n",
       "      <td>1.0</td>\n",
       "      <td>1.0</td>\n",
       "      <td>1.0</td>\n",
       "    </tr>\n",
       "  </tbody>\n",
       "</table>\n",
       "</div>"
      ],
      "text/plain": [
       "             timestamp  Age  Credit Score  Years of Education  \\\n",
       "0  2024-03-06 09:23:18  1.0           1.0                 1.0   \n",
       "1  2024-03-06 09:23:22  1.0           1.0                 1.0   \n",
       "2  2024-03-06 09:23:26  1.0           1.0                 1.0   \n",
       "3  2024-03-06 09:23:30  1.0           1.0                 1.0   \n",
       "4  2024-03-06 09:23:34  1.0           1.0                 1.0   \n",
       "\n",
       "   Years of Employment  \n",
       "0                  1.0  \n",
       "1                  1.0  \n",
       "2                  1.0  \n",
       "3                  1.0  \n",
       "4                  1.0  "
      ]
     },
     "metadata": {},
     "output_type": "display_data"
    }
   ],
   "source": [
    "train_df = trustyService.get_metric_data( \n",
    "    metric=\"trustyai_meanshift\", \n",
    "    time_interval=\"[5m]\"\n",
    ")\n",
    "display(train_df.head())"
   ]
  },
  {
   "cell_type": "markdown",
   "metadata": {},
   "source": [
    "Let's also visualize the meanshift in a plot similar to the one displayed in ODH `Observe -> Metrics` tab. We will define a helper function so that we can use it again for the unseen data."
   ]
  },
  {
   "cell_type": "code",
   "execution_count": 12,
   "metadata": {},
   "outputs": [],
   "source": [
    "def plot_meanshift(df):\n",
    "    \"\"\"\n",
    "    :param df: A pandas DataFrame returned by the TrustyAIMetricsService().get_metric_request \n",
    "               function with columns corresponding to the timestamp and name of the metric\n",
    "    returns a scatterplot with the timestamp on the x-axis and the specific metric on the y-axis\n",
    "    \"\"\"\n",
    "    plt.figure(figsize=(12,5))\n",
    "    for col in df.columns[1:]:\n",
    "        plt.plot(\n",
    "            df[\"timestamp\"],\n",
    "            df[col]\n",
    "        )\n",
    "    plt.xlabel(\"timestamp\")\n",
    "    plt.ylabel(\"meanshift\")\n",
    "    plt.xticks(rotation=45)\n",
    "    plt.legend(df.columns[1:])\n",
    "    plt.tight_layout()\n",
    "    plt.show()"
   ]
  },
  {
   "cell_type": "code",
   "execution_count": 13,
   "metadata": {},
   "outputs": [
    {
     "data": {
      "image/png": "[encoded data removed]",
      "text/plain": [
       "<Figure size 1200x500 with 1 Axes>"
      ]
     },
     "metadata": {},
     "output_type": "display_data"
    }
   ],
   "source": [
    "plot_meanshift(train_df)"
   ]
  },
  {
   "cell_type": "markdown",
   "metadata": {},
   "source": [
    "### Collect \"Real-World\" Inferences"
   ]
  },
  {
   "cell_type": "code",
   "execution_count": 14,
   "metadata": {},
   "outputs": [],
   "source": [
    "model_name = \"gaussian-credit-model\"\n",
    "model_route = TrustyAIApi().get_service_route(\n",
    "    name=model_name, \n",
    "    namespace=trustyService.namespace\n",
    ")\n",
    "\n",
    "for batch in list(range(0, 596, 5)):\n",
    "    trustyService.upload_data_to_model(\n",
    "        model_route=f\"{model_route}/v2/models/gaussian-credit-model\",\n",
    "        json_file=f\"data/data_batches/{batch}.json\"\n",
    "    )"
   ]
  },
  {
   "cell_type": "markdown",
   "metadata": {},
   "source": [
    "### Observe Drift\n",
    "Let's check if our model is behaving differently on the unseen data. "
   ]
  },
  {
   "cell_type": "code",
   "execution_count": 16,
   "metadata": {},
   "outputs": [
    {
     "data": {
      "text/html": [
       "<div>\n",
       "<style scoped>\n",
       "    .dataframe tbody tr th:only-of-type {\n",
       "        vertical-align: middle;\n",
       "    }\n",
       "\n",
       "    .dataframe tbody tr th {\n",
       "        vertical-align: top;\n",
       "    }\n",
       "\n",
       "    .dataframe thead th {\n",
       "        text-align: right;\n",
       "    }\n",
       "</style>\n",
       "<table border=\"1\" class=\"dataframe\">\n",
       "  <thead>\n",
       "    <tr style=\"text-align: right;\">\n",
       "      <th></th>\n",
       "      <th>timestamp</th>\n",
       "      <th>Age</th>\n",
       "      <th>Credit Score</th>\n",
       "      <th>Years of Education</th>\n",
       "      <th>Years of Employment</th>\n",
       "    </tr>\n",
       "  </thead>\n",
       "  <tbody>\n",
       "    <tr>\n",
       "      <th>0</th>\n",
       "      <td>2024-03-06 09:23:18</td>\n",
       "      <td>1.0</td>\n",
       "      <td>1.0</td>\n",
       "      <td>1.0</td>\n",
       "      <td>1.0</td>\n",
       "    </tr>\n",
       "    <tr>\n",
       "      <th>1</th>\n",
       "      <td>2024-03-06 09:23:22</td>\n",
       "      <td>1.0</td>\n",
       "      <td>1.0</td>\n",
       "      <td>1.0</td>\n",
       "      <td>1.0</td>\n",
       "    </tr>\n",
       "    <tr>\n",
       "      <th>2</th>\n",
       "      <td>2024-03-06 09:23:26</td>\n",
       "      <td>1.0</td>\n",
       "      <td>1.0</td>\n",
       "      <td>1.0</td>\n",
       "      <td>1.0</td>\n",
       "    </tr>\n",
       "    <tr>\n",
       "      <th>3</th>\n",
       "      <td>2024-03-06 09:23:30</td>\n",
       "      <td>1.0</td>\n",
       "      <td>1.0</td>\n",
       "      <td>1.0</td>\n",
       "      <td>1.0</td>\n",
       "    </tr>\n",
       "    <tr>\n",
       "      <th>4</th>\n",
       "      <td>2024-03-06 09:23:34</td>\n",
       "      <td>1.0</td>\n",
       "      <td>1.0</td>\n",
       "      <td>1.0</td>\n",
       "      <td>1.0</td>\n",
       "    </tr>\n",
       "  </tbody>\n",
       "</table>\n",
       "</div>"
      ],
      "text/plain": [
       "             timestamp  Age  Credit Score  Years of Education  \\\n",
       "0  2024-03-06 09:23:18  1.0           1.0                 1.0   \n",
       "1  2024-03-06 09:23:22  1.0           1.0                 1.0   \n",
       "2  2024-03-06 09:23:26  1.0           1.0                 1.0   \n",
       "3  2024-03-06 09:23:30  1.0           1.0                 1.0   \n",
       "4  2024-03-06 09:23:34  1.0           1.0                 1.0   \n",
       "\n",
       "   Years of Employment  \n",
       "0                  1.0  \n",
       "1                  1.0  \n",
       "2                  1.0  \n",
       "3                  1.0  \n",
       "4                  1.0  "
      ]
     },
     "metadata": {},
     "output_type": "display_data"
    }
   ],
   "source": [
    "test_df = trustyService.get_metric_data( \n",
    "    metric=\"trustyai_meanshift\", \n",
    "    time_interval=\"[5m]\"\n",
    "    )\n",
    "display(test_df.head())"
   ]
  },
  {
   "cell_type": "code",
   "execution_count": 17,
   "metadata": {},
   "outputs": [
    {
     "data": {
      "image/png": "[encoded data removed]",
      "text/plain": [
       "<Figure size 1200x500 with 1 Axes>"
      ]
     },
     "metadata": {},
     "output_type": "display_data"
    }
   ],
   "source": [
    "plot_meanshift(test_df)"
   ]
  },
  {
   "cell_type": "markdown",
   "metadata": {},
   "source": [
    "As observed, the meanshift values for each of the features have changed drastically from the training to test data, dropping below 1.0. In particular, `Age` and `Credit Score` are significantly different according to a p-value of 0.05. Thus, it is clear that our model suffers from data drift."
   ]
  }
 ],
 "metadata": {
  "kernelspec": {
   "display_name": "ml23",
   "language": "python",
   "name": "python3"
  },
  "language_info": {
   "codemirror_mode": {
    "name": "ipython",
    "version": 3
   },
   "file_extension": ".py",
   "mimetype": "text/x-python",
   "name": "python",
   "nbconvert_exporter": "python",
   "pygments_lexer": "ipython3",
   "version": "3.9.7"
  },
  "orig_nbformat": 4
 },
 "nbformat": 4,
 "nbformat_minor": 2
}
